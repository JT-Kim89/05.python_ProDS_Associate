{
 "cells": [
  {
   "cell_type": "markdown",
   "id": "fb336c7f",
   "metadata": {},
   "source": [
    "# 11차시 모분산 비교에 관한 가설검정: 등분산 검정(F-test of equality of variances)\n",
    "\n",
    "## 01 등분산 검정 개요\n",
    "\n",
    "### 등분산 검정 종류\n",
    "\n",
    "- F-test: 두 집단의 등분산 검정을 실시하며 각 집단은 정규분포를 따를 때 사용\n",
    "- Bartlett's test: 두 집단 이상의 등분산 검정을 실시하며 각 집단은 정규분포를 따를 때 사용\n",
    "- Levene's test: 두 집단 이상의 등분산 검정을 실시하며 각 집단은 정규분포를 따를 필요가 없음\n",
    "\n",
    "### 가설\n",
    "\n",
    "- 귀무가설(H0): 집단 간 분산은 서로 같음\n",
    "- 대립가설(H1): 집단 간 분산은 서로 다름\n",
    "\n",
    "## 02 데이터 소개\n",
    "\n",
    "### 은행 고객 데이터 - financial_info_10k_persons.csv\n",
    "\n",
    "- 은행 고객 10,000명의 데이터\n",
    "- 잔존 고객과 이탈 고객의 특성을 파악할 수 있음\n",
    "\n",
    "## 03 주요 함수 및 메서드 소개\n",
    "\n",
    "### F-검정 - f.cdf()\n",
    "\n",
    "- scipy의 f 검정을 실시할 때 사용하는 함수\n",
    "- F 검정통계량을 입력 받아 P-value를 산출하는 함수\n",
    "- 입력은 F 검정통계량, 첫 번째 데이터의 자유도, 두 번째 데이터의 자유도가 필요\n"
   ]
  },
  {
   "cell_type": "code",
   "execution_count": 1,
   "id": "446ad71d",
   "metadata": {},
   "outputs": [],
   "source": [
    "import pandas as pd\n",
    "from scipy.stats import f"
   ]
  },
  {
   "cell_type": "code",
   "execution_count": 2,
   "id": "d1acaffd",
   "metadata": {},
   "outputs": [
    {
     "data": {
      "text/html": [
       "<div>\n",
       "<style scoped>\n",
       "    .dataframe tbody tr th:only-of-type {\n",
       "        vertical-align: middle;\n",
       "    }\n",
       "\n",
       "    .dataframe tbody tr th {\n",
       "        vertical-align: top;\n",
       "    }\n",
       "\n",
       "    .dataframe thead th {\n",
       "        text-align: right;\n",
       "    }\n",
       "</style>\n",
       "<table border=\"1\" class=\"dataframe\">\n",
       "  <thead>\n",
       "    <tr style=\"text-align: right;\">\n",
       "      <th></th>\n",
       "      <th>ID</th>\n",
       "      <th>is_attrited</th>\n",
       "      <th>Age</th>\n",
       "      <th>Gender</th>\n",
       "      <th>Dependent_cnt</th>\n",
       "      <th>Edu_level</th>\n",
       "      <th>Marital_status</th>\n",
       "      <th>Income</th>\n",
       "      <th>Card</th>\n",
       "      <th>Period_m</th>\n",
       "      <th>Total_rel_cnt</th>\n",
       "      <th>Inactive_last_12m</th>\n",
       "      <th>Contacts_cnt_last_12m</th>\n",
       "      <th>Credit_limit</th>\n",
       "      <th>Total_trans_amt</th>\n",
       "      <th>Total_trans_cnt</th>\n",
       "    </tr>\n",
       "  </thead>\n",
       "  <tbody>\n",
       "    <tr>\n",
       "      <th>9995</th>\n",
       "      <td>9996</td>\n",
       "      <td>1</td>\n",
       "      <td>36</td>\n",
       "      <td>M</td>\n",
       "      <td>2</td>\n",
       "      <td>Graduate</td>\n",
       "      <td>Married</td>\n",
       "      <td>$40K - $60K</td>\n",
       "      <td>Blue</td>\n",
       "      <td>18</td>\n",
       "      <td>3</td>\n",
       "      <td>1</td>\n",
       "      <td>3</td>\n",
       "      <td>7758.0</td>\n",
       "      <td>569</td>\n",
       "      <td>23</td>\n",
       "    </tr>\n",
       "    <tr>\n",
       "      <th>9996</th>\n",
       "      <td>9997</td>\n",
       "      <td>0</td>\n",
       "      <td>54</td>\n",
       "      <td>M</td>\n",
       "      <td>4</td>\n",
       "      <td>Graduate</td>\n",
       "      <td>Married</td>\n",
       "      <td>$60K - $80K</td>\n",
       "      <td>Blue</td>\n",
       "      <td>36</td>\n",
       "      <td>4</td>\n",
       "      <td>3</td>\n",
       "      <td>3</td>\n",
       "      <td>6905.0</td>\n",
       "      <td>1370</td>\n",
       "      <td>25</td>\n",
       "    </tr>\n",
       "    <tr>\n",
       "      <th>9997</th>\n",
       "      <td>9998</td>\n",
       "      <td>0</td>\n",
       "      <td>46</td>\n",
       "      <td>M</td>\n",
       "      <td>3</td>\n",
       "      <td>Uneducated</td>\n",
       "      <td>Single</td>\n",
       "      <td>$60K - $80K</td>\n",
       "      <td>Blue</td>\n",
       "      <td>36</td>\n",
       "      <td>5</td>\n",
       "      <td>1</td>\n",
       "      <td>2</td>\n",
       "      <td>5489.0</td>\n",
       "      <td>3215</td>\n",
       "      <td>64</td>\n",
       "    </tr>\n",
       "    <tr>\n",
       "      <th>9998</th>\n",
       "      <td>9999</td>\n",
       "      <td>0</td>\n",
       "      <td>43</td>\n",
       "      <td>M</td>\n",
       "      <td>3</td>\n",
       "      <td>Graduate</td>\n",
       "      <td>Unknown</td>\n",
       "      <td>$40K - $60K</td>\n",
       "      <td>Blue</td>\n",
       "      <td>36</td>\n",
       "      <td>2</td>\n",
       "      <td>3</td>\n",
       "      <td>3</td>\n",
       "      <td>4878.0</td>\n",
       "      <td>5021</td>\n",
       "      <td>84</td>\n",
       "    </tr>\n",
       "    <tr>\n",
       "      <th>9999</th>\n",
       "      <td>10000</td>\n",
       "      <td>0</td>\n",
       "      <td>45</td>\n",
       "      <td>F</td>\n",
       "      <td>3</td>\n",
       "      <td>Unknown</td>\n",
       "      <td>Single</td>\n",
       "      <td>Less than $40K</td>\n",
       "      <td>Blue</td>\n",
       "      <td>36</td>\n",
       "      <td>3</td>\n",
       "      <td>4</td>\n",
       "      <td>0</td>\n",
       "      <td>1438.3</td>\n",
       "      <td>4463</td>\n",
       "      <td>71</td>\n",
       "    </tr>\n",
       "  </tbody>\n",
       "</table>\n",
       "</div>"
      ],
      "text/plain": [
       "         ID  is_attrited  Age Gender  Dependent_cnt   Edu_level  \\\n",
       "9995   9996            1   36      M              2    Graduate   \n",
       "9996   9997            0   54      M              4    Graduate   \n",
       "9997   9998            0   46      M              3  Uneducated   \n",
       "9998   9999            0   43      M              3    Graduate   \n",
       "9999  10000            0   45      F              3     Unknown   \n",
       "\n",
       "     Marital_status          Income  Card  Period_m  Total_rel_cnt  \\\n",
       "9995        Married     $40K - $60K  Blue        18              3   \n",
       "9996        Married     $60K - $80K  Blue        36              4   \n",
       "9997         Single     $60K - $80K  Blue        36              5   \n",
       "9998        Unknown     $40K - $60K  Blue        36              2   \n",
       "9999         Single  Less than $40K  Blue        36              3   \n",
       "\n",
       "      Inactive_last_12m  Contacts_cnt_last_12m  Credit_limit  Total_trans_amt  \\\n",
       "9995                  1                      3        7758.0              569   \n",
       "9996                  3                      3        6905.0             1370   \n",
       "9997                  1                      2        5489.0             3215   \n",
       "9998                  3                      3        4878.0             5021   \n",
       "9999                  4                      0        1438.3             4463   \n",
       "\n",
       "      Total_trans_cnt  \n",
       "9995               23  \n",
       "9996               25  \n",
       "9997               64  \n",
       "9998               84  \n",
       "9999               71  "
      ]
     },
     "execution_count": 2,
     "metadata": {},
     "output_type": "execute_result"
    }
   ],
   "source": [
    "df = pd.read_csv(\"강의자료/실습파일/financial_info_10k_persons.csv\")\n",
    "df.tail()"
   ]
  },
  {
   "cell_type": "code",
   "execution_count": 3,
   "id": "2c99511f",
   "metadata": {},
   "outputs": [
    {
     "data": {
      "text/plain": [
       "1.040426345317289"
      ]
     },
     "execution_count": 3,
     "metadata": {},
     "output_type": "execute_result"
    }
   ],
   "source": [
    "ser_M = df.loc[df[\"Gender\"] == \"M\", \"Period_m\"]\n",
    "ser_F = df.loc[df[\"Gender\"] == \"F\", \"Period_m\"]\n",
    "F = ser_M.var() / ser_F.var() # 검정통계량\n",
    "F"
   ]
  },
  {
   "cell_type": "code",
   "execution_count": 4,
   "id": "70d7730a",
   "metadata": {},
   "outputs": [
    {
     "data": {
      "text/plain": [
       "0.9187893064992898"
      ]
     },
     "execution_count": 4,
     "metadata": {},
     "output_type": "execute_result"
    }
   ],
   "source": [
    "result = f.cdf(F, dfd = len(ser_M)-1, dfn = len(ser_F))\n",
    "result"
   ]
  },
  {
   "cell_type": "code",
   "execution_count": 5,
   "id": "960ea5a5",
   "metadata": {},
   "outputs": [
    {
     "data": {
      "text/plain": [
       "0.1624213870014204"
      ]
     },
     "execution_count": 5,
     "metadata": {},
     "output_type": "execute_result"
    }
   ],
   "source": [
    "p = (1-result) *2  # p-value\n",
    "p"
   ]
  },
  {
   "cell_type": "markdown",
   "id": "83df5e84",
   "metadata": {},
   "source": [
    "### Bartlett 검정 - bartlett()\n",
    "\n",
    "- scipy의 Bartlett 검정을 실시할 때 사용하는 함수\n",
    "- 분산을 연산하기 위한 집단을 함수에 입력"
   ]
  },
  {
   "cell_type": "code",
   "execution_count": 6,
   "id": "e86751bf",
   "metadata": {},
   "outputs": [],
   "source": [
    "from scipy.stats import bartlett"
   ]
  },
  {
   "cell_type": "code",
   "execution_count": 9,
   "id": "ce7571e8",
   "metadata": {},
   "outputs": [
    {
     "data": {
      "text/plain": [
       "0.16190940989253869"
      ]
     },
     "execution_count": 9,
     "metadata": {},
     "output_type": "execute_result"
    }
   ],
   "source": [
    "stat, p = bartlett(ser_F, ser_M)\n",
    "p"
   ]
  },
  {
   "cell_type": "markdown",
   "id": "3822da2f",
   "metadata": {},
   "source": [
    "### Levene 검정 - levene()\n",
    "\n",
    "- scipy의 Levene 검정을 실시할 때 사용하는 함수\n",
    "- 분산을 연산하기 위한 집단을 함수에 입력"
   ]
  },
  {
   "cell_type": "code",
   "execution_count": 10,
   "id": "9d534d7d",
   "metadata": {},
   "outputs": [],
   "source": [
    "from scipy.stats import levene"
   ]
  },
  {
   "cell_type": "code",
   "execution_count": 11,
   "id": "35e06f41",
   "metadata": {},
   "outputs": [
    {
     "data": {
      "text/plain": [
       "0.11651198398605053"
      ]
     },
     "execution_count": 11,
     "metadata": {},
     "output_type": "execute_result"
    }
   ],
   "source": [
    "stat, p = levene(ser_F, ser_M)\n",
    "p"
   ]
  },
  {
   "cell_type": "markdown",
   "id": "d523d3f4",
   "metadata": {},
   "source": [
    "## Q1 남성과 여성의 1회 평균 송금액의 분산을 비교 검정하고 그 결과의 검정 통계량은 얼마인가?"
   ]
  },
  {
   "cell_type": "code",
   "execution_count": 12,
   "id": "39c9e5fc",
   "metadata": {},
   "outputs": [
    {
     "data": {
      "text/html": [
       "<div>\n",
       "<style scoped>\n",
       "    .dataframe tbody tr th:only-of-type {\n",
       "        vertical-align: middle;\n",
       "    }\n",
       "\n",
       "    .dataframe tbody tr th {\n",
       "        vertical-align: top;\n",
       "    }\n",
       "\n",
       "    .dataframe thead th {\n",
       "        text-align: right;\n",
       "    }\n",
       "</style>\n",
       "<table border=\"1\" class=\"dataframe\">\n",
       "  <thead>\n",
       "    <tr style=\"text-align: right;\">\n",
       "      <th></th>\n",
       "      <th>ID</th>\n",
       "      <th>is_attrited</th>\n",
       "      <th>Age</th>\n",
       "      <th>Gender</th>\n",
       "      <th>Dependent_cnt</th>\n",
       "      <th>Edu_level</th>\n",
       "      <th>Marital_status</th>\n",
       "      <th>Income</th>\n",
       "      <th>Card</th>\n",
       "      <th>Period_m</th>\n",
       "      <th>Total_rel_cnt</th>\n",
       "      <th>Inactive_last_12m</th>\n",
       "      <th>Contacts_cnt_last_12m</th>\n",
       "      <th>Credit_limit</th>\n",
       "      <th>Total_trans_amt</th>\n",
       "      <th>Total_trans_cnt</th>\n",
       "    </tr>\n",
       "  </thead>\n",
       "  <tbody>\n",
       "    <tr>\n",
       "      <th>9995</th>\n",
       "      <td>9996</td>\n",
       "      <td>1</td>\n",
       "      <td>36</td>\n",
       "      <td>M</td>\n",
       "      <td>2</td>\n",
       "      <td>Graduate</td>\n",
       "      <td>Married</td>\n",
       "      <td>$40K - $60K</td>\n",
       "      <td>Blue</td>\n",
       "      <td>18</td>\n",
       "      <td>3</td>\n",
       "      <td>1</td>\n",
       "      <td>3</td>\n",
       "      <td>7758.0</td>\n",
       "      <td>569</td>\n",
       "      <td>23</td>\n",
       "    </tr>\n",
       "    <tr>\n",
       "      <th>9996</th>\n",
       "      <td>9997</td>\n",
       "      <td>0</td>\n",
       "      <td>54</td>\n",
       "      <td>M</td>\n",
       "      <td>4</td>\n",
       "      <td>Graduate</td>\n",
       "      <td>Married</td>\n",
       "      <td>$60K - $80K</td>\n",
       "      <td>Blue</td>\n",
       "      <td>36</td>\n",
       "      <td>4</td>\n",
       "      <td>3</td>\n",
       "      <td>3</td>\n",
       "      <td>6905.0</td>\n",
       "      <td>1370</td>\n",
       "      <td>25</td>\n",
       "    </tr>\n",
       "    <tr>\n",
       "      <th>9997</th>\n",
       "      <td>9998</td>\n",
       "      <td>0</td>\n",
       "      <td>46</td>\n",
       "      <td>M</td>\n",
       "      <td>3</td>\n",
       "      <td>Uneducated</td>\n",
       "      <td>Single</td>\n",
       "      <td>$60K - $80K</td>\n",
       "      <td>Blue</td>\n",
       "      <td>36</td>\n",
       "      <td>5</td>\n",
       "      <td>1</td>\n",
       "      <td>2</td>\n",
       "      <td>5489.0</td>\n",
       "      <td>3215</td>\n",
       "      <td>64</td>\n",
       "    </tr>\n",
       "    <tr>\n",
       "      <th>9998</th>\n",
       "      <td>9999</td>\n",
       "      <td>0</td>\n",
       "      <td>43</td>\n",
       "      <td>M</td>\n",
       "      <td>3</td>\n",
       "      <td>Graduate</td>\n",
       "      <td>Unknown</td>\n",
       "      <td>$40K - $60K</td>\n",
       "      <td>Blue</td>\n",
       "      <td>36</td>\n",
       "      <td>2</td>\n",
       "      <td>3</td>\n",
       "      <td>3</td>\n",
       "      <td>4878.0</td>\n",
       "      <td>5021</td>\n",
       "      <td>84</td>\n",
       "    </tr>\n",
       "    <tr>\n",
       "      <th>9999</th>\n",
       "      <td>10000</td>\n",
       "      <td>0</td>\n",
       "      <td>45</td>\n",
       "      <td>F</td>\n",
       "      <td>3</td>\n",
       "      <td>Unknown</td>\n",
       "      <td>Single</td>\n",
       "      <td>Less than $40K</td>\n",
       "      <td>Blue</td>\n",
       "      <td>36</td>\n",
       "      <td>3</td>\n",
       "      <td>4</td>\n",
       "      <td>0</td>\n",
       "      <td>1438.3</td>\n",
       "      <td>4463</td>\n",
       "      <td>71</td>\n",
       "    </tr>\n",
       "  </tbody>\n",
       "</table>\n",
       "</div>"
      ],
      "text/plain": [
       "         ID  is_attrited  Age Gender  Dependent_cnt   Edu_level  \\\n",
       "9995   9996            1   36      M              2    Graduate   \n",
       "9996   9997            0   54      M              4    Graduate   \n",
       "9997   9998            0   46      M              3  Uneducated   \n",
       "9998   9999            0   43      M              3    Graduate   \n",
       "9999  10000            0   45      F              3     Unknown   \n",
       "\n",
       "     Marital_status          Income  Card  Period_m  Total_rel_cnt  \\\n",
       "9995        Married     $40K - $60K  Blue        18              3   \n",
       "9996        Married     $60K - $80K  Blue        36              4   \n",
       "9997         Single     $60K - $80K  Blue        36              5   \n",
       "9998        Unknown     $40K - $60K  Blue        36              2   \n",
       "9999         Single  Less than $40K  Blue        36              3   \n",
       "\n",
       "      Inactive_last_12m  Contacts_cnt_last_12m  Credit_limit  Total_trans_amt  \\\n",
       "9995                  1                      3        7758.0              569   \n",
       "9996                  3                      3        6905.0             1370   \n",
       "9997                  1                      2        5489.0             3215   \n",
       "9998                  3                      3        4878.0             5021   \n",
       "9999                  4                      0        1438.3             4463   \n",
       "\n",
       "      Total_trans_cnt  \n",
       "9995               23  \n",
       "9996               25  \n",
       "9997               64  \n",
       "9998               84  \n",
       "9999               71  "
      ]
     },
     "execution_count": 12,
     "metadata": {},
     "output_type": "execute_result"
    }
   ],
   "source": [
    "Q1 = pd.read_csv(\"강의자료/실습파일/financial_info_10k_persons.csv\")\n",
    "Q1.tail()"
   ]
  },
  {
   "cell_type": "code",
   "execution_count": 13,
   "id": "188e70a1",
   "metadata": {},
   "outputs": [
    {
     "data": {
      "text/html": [
       "<div>\n",
       "<style scoped>\n",
       "    .dataframe tbody tr th:only-of-type {\n",
       "        vertical-align: middle;\n",
       "    }\n",
       "\n",
       "    .dataframe tbody tr th {\n",
       "        vertical-align: top;\n",
       "    }\n",
       "\n",
       "    .dataframe thead th {\n",
       "        text-align: right;\n",
       "    }\n",
       "</style>\n",
       "<table border=\"1\" class=\"dataframe\">\n",
       "  <thead>\n",
       "    <tr style=\"text-align: right;\">\n",
       "      <th></th>\n",
       "      <th>ID</th>\n",
       "      <th>is_attrited</th>\n",
       "      <th>Age</th>\n",
       "      <th>Gender</th>\n",
       "      <th>Dependent_cnt</th>\n",
       "      <th>Edu_level</th>\n",
       "      <th>Marital_status</th>\n",
       "      <th>Income</th>\n",
       "      <th>Card</th>\n",
       "      <th>Period_m</th>\n",
       "      <th>Total_rel_cnt</th>\n",
       "      <th>Inactive_last_12m</th>\n",
       "      <th>Contacts_cnt_last_12m</th>\n",
       "      <th>Credit_limit</th>\n",
       "      <th>Total_trans_amt</th>\n",
       "      <th>Total_trans_cnt</th>\n",
       "      <th>mean_tran</th>\n",
       "    </tr>\n",
       "  </thead>\n",
       "  <tbody>\n",
       "    <tr>\n",
       "      <th>9998</th>\n",
       "      <td>9999</td>\n",
       "      <td>0</td>\n",
       "      <td>43</td>\n",
       "      <td>M</td>\n",
       "      <td>3</td>\n",
       "      <td>Graduate</td>\n",
       "      <td>Unknown</td>\n",
       "      <td>$40K - $60K</td>\n",
       "      <td>Blue</td>\n",
       "      <td>36</td>\n",
       "      <td>2</td>\n",
       "      <td>3</td>\n",
       "      <td>3</td>\n",
       "      <td>4878.0</td>\n",
       "      <td>5021</td>\n",
       "      <td>84</td>\n",
       "      <td>59.773810</td>\n",
       "    </tr>\n",
       "    <tr>\n",
       "      <th>9999</th>\n",
       "      <td>10000</td>\n",
       "      <td>0</td>\n",
       "      <td>45</td>\n",
       "      <td>F</td>\n",
       "      <td>3</td>\n",
       "      <td>Unknown</td>\n",
       "      <td>Single</td>\n",
       "      <td>Less than $40K</td>\n",
       "      <td>Blue</td>\n",
       "      <td>36</td>\n",
       "      <td>3</td>\n",
       "      <td>4</td>\n",
       "      <td>0</td>\n",
       "      <td>1438.3</td>\n",
       "      <td>4463</td>\n",
       "      <td>71</td>\n",
       "      <td>62.859155</td>\n",
       "    </tr>\n",
       "  </tbody>\n",
       "</table>\n",
       "</div>"
      ],
      "text/plain": [
       "         ID  is_attrited  Age Gender  Dependent_cnt Edu_level Marital_status  \\\n",
       "9998   9999            0   43      M              3  Graduate        Unknown   \n",
       "9999  10000            0   45      F              3   Unknown         Single   \n",
       "\n",
       "              Income  Card  Period_m  Total_rel_cnt  Inactive_last_12m  \\\n",
       "9998     $40K - $60K  Blue        36              2                  3   \n",
       "9999  Less than $40K  Blue        36              3                  4   \n",
       "\n",
       "      Contacts_cnt_last_12m  Credit_limit  Total_trans_amt  Total_trans_cnt  \\\n",
       "9998                      3        4878.0             5021               84   \n",
       "9999                      0        1438.3             4463               71   \n",
       "\n",
       "      mean_tran  \n",
       "9998  59.773810  \n",
       "9999  62.859155  "
      ]
     },
     "execution_count": 13,
     "metadata": {},
     "output_type": "execute_result"
    }
   ],
   "source": [
    "Q1[\"mean_tran\"] = Q1[\"Total_trans_amt\"] / Q1[\"Total_trans_cnt\"]\n",
    "Q1.tail(2)"
   ]
  },
  {
   "cell_type": "code",
   "execution_count": 17,
   "id": "f8d26dc9",
   "metadata": {},
   "outputs": [
    {
     "data": {
      "text/plain": [
       "1.6665446172570928"
      ]
     },
     "execution_count": 17,
     "metadata": {},
     "output_type": "execute_result"
    }
   ],
   "source": [
    "M_AT = Q1.loc[Q1[\"Gender\"] == \"M\", \"mean_tran\"]\n",
    "W_AT = Q1.loc[Q1[\"Gender\"] == \"F\", \"mean_tran\"]\n",
    "F = M_AT.var() / W_AT.var()\n",
    "F"
   ]
  },
  {
   "cell_type": "code",
   "execution_count": 18,
   "id": "75e5785d",
   "metadata": {},
   "outputs": [
    {
     "data": {
      "text/plain": [
       "0.9999999999999999"
      ]
     },
     "execution_count": 18,
     "metadata": {},
     "output_type": "execute_result"
    }
   ],
   "source": [
    "result = f.cdf(F, dfd = len(M_AT)-1, dfn = len(W_AT))\n",
    "result"
   ]
  },
  {
   "cell_type": "code",
   "execution_count": 19,
   "id": "d20b5574",
   "metadata": {
    "scrolled": true
   },
   "outputs": [
    {
     "data": {
      "text/plain": [
       "2.220446049250313e-16"
      ]
     },
     "execution_count": 19,
     "metadata": {},
     "output_type": "execute_result"
    }
   ],
   "source": [
    "p = (1-result) *2\n",
    "p"
   ]
  },
  {
   "cell_type": "markdown",
   "id": "fe54f524",
   "metadata": {},
   "source": [
    "## Q2 50, 60, 70대의 1회 평균 송금액의 분산을 비교 검정하였을 때 산출되는 p-value는 얼마인가?\n",
    "1) Bartlett 검정 사용"
   ]
  },
  {
   "cell_type": "code",
   "execution_count": 23,
   "id": "d5cacfaa",
   "metadata": {},
   "outputs": [
    {
     "name": "stdout",
     "output_type": "stream",
     "text": [
      "10.989\n",
      "0.004\n"
     ]
    }
   ],
   "source": [
    "AT_50 = Q1.loc[(Q1[\"Age\"] >= 50) & (Q1[\"Age\"] < 60), \"mean_tran\"]\n",
    "AT_60 = Q1.loc[(Q1[\"Age\"] >= 60) & (Q1[\"Age\"] < 70), \"mean_tran\"]\n",
    "AT_70 = Q1.loc[(Q1[\"Age\"] >= 70) & (Q1[\"Age\"] < 80), \"mean_tran\"]\n",
    "stat, p = bartlett(AT_50, AT_60, AT_70)\n",
    "print(stat.round(3))\n",
    "print(p.round(3))"
   ]
  },
  {
   "cell_type": "markdown",
   "id": "48b1657e",
   "metadata": {},
   "source": [
    "## Q3 부양가족이 없는 남성을 대상으로 교육수준에 따른 1회 평균 송금액의 분산을 비교 검정하였을 때 산출되는 p-value는 얼마인가?\n",
    "1) Levene 검정 사용"
   ]
  },
  {
   "cell_type": "code",
   "execution_count": 26,
   "id": "81b33da7",
   "metadata": {},
   "outputs": [
    {
     "data": {
      "text/plain": [
       "array(['High School', 'Uneducated', 'Doctorate', 'Unknown', 'Graduate',\n",
       "       'Post-Graduate', 'College'], dtype=object)"
      ]
     },
     "execution_count": 26,
     "metadata": {},
     "output_type": "execute_result"
    }
   ],
   "source": [
    "Q1[\"Edu_level\"].unique()"
   ]
  },
  {
   "cell_type": "code",
   "execution_count": 48,
   "id": "63840b16",
   "metadata": {},
   "outputs": [],
   "source": [
    "cond1 = Q1[\"Gender\"] == \"M\"\n",
    "cond2 = Q1[\"Dependent_cnt\"] == 0\n",
    "\n",
    "MS_H = Q1.loc[cond1 & cond2 & (Q1[\"Edu_level\"] == \"High School\"), \"mean_tran\"]\n",
    "MS_U = Q1.loc[cond1 & cond2 & (Q1[\"Edu_level\"] == \"Uneducated\"), \"mean_tran\"]\n",
    "MS_D = Q1.loc[cond1 & cond2 & (Q1[\"Edu_level\"] == \"Doctorate\"), \"mean_tran\"]\n",
    "MS_U2 = Q1.loc[cond1 & cond2 & (Q1[\"Edu_level\"] == \"Unknown\"), \"mean_tran\"]\n",
    "MS_G = Q1.loc[cond1 & cond2 & (Q1[\"Edu_level\"] == \"Graduate\"), \"mean_tran\"]\n",
    "MS_P = Q1.loc[cond1 & cond2 & (Q1[\"Edu_level\"] == \"Post-Graduate\"), \"mean_tran\"]\n",
    "MS_C = Q1.loc[cond1 & cond2 & (Q1[\"Edu_level\"] == \"College\"), \"mean_tran\"]\n"
   ]
  },
  {
   "cell_type": "code",
   "execution_count": 49,
   "id": "d019681d",
   "metadata": {},
   "outputs": [
    {
     "name": "stdout",
     "output_type": "stream",
     "text": [
      "0.883\n",
      "0.507\n"
     ]
    }
   ],
   "source": [
    "stat, p = levene(MS_H, MS_U, MS_D, MS_U2, MS_G, MS_P, MS_C)\n",
    "print(stat.round(3))\n",
    "print(p.round(3))"
   ]
  },
  {
   "cell_type": "code",
   "execution_count": 50,
   "id": "317136c5",
   "metadata": {},
   "outputs": [
    {
     "data": {
      "text/plain": [
       "'Uneducated'"
      ]
     },
     "execution_count": 50,
     "metadata": {},
     "output_type": "execute_result"
    }
   ],
   "source": [
    "## 답안\n",
    "Q1[\"Edu_level\"].unique()[1]"
   ]
  },
  {
   "cell_type": "code",
   "execution_count": 58,
   "id": "ddaac04d",
   "metadata": {},
   "outputs": [
    {
     "name": "stdout",
     "output_type": "stream",
     "text": [
      "0.883\n",
      "0.507\n"
     ]
    }
   ],
   "source": [
    "MS = Q1.loc[cond1 & cond2]\n",
    "\n",
    "stat, p = levene(MS.loc[MS[\"Edu_level\"] == MS[\"Edu_level\"].unique()[0], \"mean_tran\"],\n",
    "                 MS.loc[MS[\"Edu_level\"] == MS[\"Edu_level\"].unique()[1], \"mean_tran\"],\n",
    "                 MS.loc[MS[\"Edu_level\"] == MS[\"Edu_level\"].unique()[2], \"mean_tran\"],\n",
    "                 MS.loc[MS[\"Edu_level\"] == MS[\"Edu_level\"].unique()[3], \"mean_tran\"],\n",
    "                 MS.loc[MS[\"Edu_level\"] == MS[\"Edu_level\"].unique()[4], \"mean_tran\"],\n",
    "                 MS.loc[MS[\"Edu_level\"] == MS[\"Edu_level\"].unique()[5], \"mean_tran\"],\n",
    "                 MS.loc[MS[\"Edu_level\"] == MS[\"Edu_level\"].unique()[6], \"mean_tran\"])\n",
    "print(stat.round(3))\n",
    "print(p.round(3))"
   ]
  },
  {
   "cell_type": "code",
   "execution_count": 75,
   "id": "87c17694",
   "metadata": {
    "scrolled": true
   },
   "outputs": [
    {
     "name": "stdout",
     "output_type": "stream",
     "text": [
      "0.883\n",
      "0.507\n"
     ]
    }
   ],
   "source": [
    "## chatGPT 답안\n",
    "\n",
    "unique_edu_levels = MS[\"Edu_level\"].unique()  \n",
    "data_to_compare = [MS.loc[MS[\"Edu_level\"] == level, \"mean_tran\"] for level in unique_edu_levels]\n",
    "stat, p = levene(*data_to_compare)\n",
    "print(stat.round(3))\n",
    "print(p.round(3))"
   ]
  }
 ],
 "metadata": {
  "kernelspec": {
   "display_name": "Python 3 (ipykernel)",
   "language": "python",
   "name": "python3"
  },
  "language_info": {
   "codemirror_mode": {
    "name": "ipython",
    "version": 3
   },
   "file_extension": ".py",
   "mimetype": "text/x-python",
   "name": "python",
   "nbconvert_exporter": "python",
   "pygments_lexer": "ipython3",
   "version": "3.9.13"
  }
 },
 "nbformat": 4,
 "nbformat_minor": 5
}
