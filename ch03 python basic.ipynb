{
 "cells": [
  {
   "cell_type": "markdown",
   "id": "6753ab79",
   "metadata": {},
   "source": [
    "CH2 Python Basic(1)  \n",
    "(List)"
   ]
  },
  {
   "cell_type": "code",
   "execution_count": 2,
   "id": "6fbbd978",
   "metadata": {},
   "outputs": [
    {
     "name": "stdout",
     "output_type": "stream",
     "text": [
      "[1, 2, ['a', 'b', 'c']]\n"
     ]
    }
   ],
   "source": [
    "print([1, 2, [\"a\", \"b\", \"c\"]])"
   ]
  },
  {
   "cell_type": "code",
   "execution_count": 3,
   "id": "54ca9a52",
   "metadata": {},
   "outputs": [
    {
     "data": {
      "text/plain": [
       "[1, 2, 3, 4, 5, 6]"
      ]
     },
     "execution_count": 3,
     "metadata": {},
     "output_type": "execute_result"
    }
   ],
   "source": [
    "aa = [1, 2, 3]\n",
    "bb = [4, 5, 6]\n",
    "aa + bb"
   ]
  },
  {
   "cell_type": "code",
   "execution_count": 4,
   "id": "02bd29bf",
   "metadata": {},
   "outputs": [
    {
     "data": {
      "text/plain": [
       "array([5, 7, 9])"
      ]
     },
     "execution_count": 4,
     "metadata": {},
     "output_type": "execute_result"
    }
   ],
   "source": [
    "import numpy as np\n",
    "arr_aa = np.array([1,2,3])\n",
    "arr_bb = np.array([4,5,6])\n",
    "arr_aa + arr_bb"
   ]
  },
  {
   "cell_type": "markdown",
   "id": "a21abbc9",
   "metadata": {},
   "source": [
    "CH3 Python Basic(2)  \n",
    "(if, for)"
   ]
  },
  {
   "cell_type": "code",
   "execution_count": 6,
   "id": "5306351b",
   "metadata": {},
   "outputs": [
    {
     "name": "stdout",
     "output_type": "stream",
     "text": [
      "0\n",
      "1\n",
      "2\n"
     ]
    }
   ],
   "source": [
    "for n in range(3):\n",
    "    print(n)"
   ]
  },
  {
   "cell_type": "code",
   "execution_count": 5,
   "id": "c3b2909b",
   "metadata": {},
   "outputs": [
    {
     "name": "stdout",
     "output_type": "stream",
     "text": [
      "3\n",
      "7\n",
      "11\n"
     ]
    }
   ],
   "source": [
    "aa = [(1, 2), (3, 4), (5, 6)]\n",
    "for (first, second) in aa:\n",
    "    print(first + second)"
   ]
  },
  {
   "cell_type": "code",
   "execution_count": 8,
   "id": "a05e7626",
   "metadata": {},
   "outputs": [
    {
     "data": {
      "text/plain": [
       "[2, 4, 6]"
      ]
     },
     "execution_count": 8,
     "metadata": {},
     "output_type": "execute_result"
    }
   ],
   "source": [
    "bb = [2, 3, 4, 5, 6]\n",
    "even = [num for num in bb if num % 2 == 0]  # List Comprehension\n",
    "even"
   ]
  },
  {
   "cell_type": "code",
   "execution_count": 9,
   "id": "33286264",
   "metadata": {},
   "outputs": [
    {
     "data": {
      "text/plain": [
       "[2, 4, 6]"
      ]
     },
     "execution_count": 9,
     "metadata": {},
     "output_type": "execute_result"
    }
   ],
   "source": [
    "bb = [2, 3, 4, 5, 6]\n",
    "even = []\n",
    "for num in bb:\n",
    "    if num % 2 == 0:\n",
    "        even = even + [num]\n",
    "even"
   ]
  },
  {
   "cell_type": "code",
   "execution_count": 11,
   "id": "2f4613e7",
   "metadata": {},
   "outputs": [
    {
     "ename": "TypeError",
     "evalue": "array() missing required argument 'object' (pos 0)",
     "output_type": "error",
     "traceback": [
      "\u001b[1;31m---------------------------------------------------------------------------\u001b[0m",
      "\u001b[1;31mTypeError\u001b[0m                                 Traceback (most recent call last)",
      "\u001b[1;32m~\\AppData\\Local\\Temp\\ipykernel_35276\\2603398219.py\u001b[0m in \u001b[0;36m<module>\u001b[1;34m\u001b[0m\n\u001b[0;32m      1\u001b[0m \u001b[1;32mimport\u001b[0m \u001b[0mnumpy\u001b[0m \u001b[1;32mas\u001b[0m \u001b[0mnp\u001b[0m\u001b[1;33m\u001b[0m\u001b[1;33m\u001b[0m\u001b[0m\n\u001b[1;32m----> 2\u001b[1;33m \u001b[0mnp\u001b[0m\u001b[1;33m.\u001b[0m\u001b[0marray\u001b[0m\u001b[1;33m(\u001b[0m\u001b[1;33m)\u001b[0m   \u001b[1;31m# shift +tap 누르면 설명이 나옴. # 에러는 마지막 줄을 먼저 본다.\u001b[0m\u001b[1;33m\u001b[0m\u001b[1;33m\u001b[0m\u001b[0m\n\u001b[0m",
      "\u001b[1;31mTypeError\u001b[0m: array() missing required argument 'object' (pos 0)"
     ]
    }
   ],
   "source": [
    "import numpy as np\n",
    "np.array()   # shift +tap 누르면 설명이 나옴. # 에러는 마지막 줄을 먼저 본다."
   ]
  }
 ],
 "metadata": {
  "kernelspec": {
   "display_name": "Python 3 (ipykernel)",
   "language": "python",
   "name": "python3"
  },
  "language_info": {
   "codemirror_mode": {
    "name": "ipython",
    "version": 3
   },
   "file_extension": ".py",
   "mimetype": "text/x-python",
   "name": "python",
   "nbconvert_exporter": "python",
   "pygments_lexer": "ipython3",
   "version": "3.9.13"
  }
 },
 "nbformat": 4,
 "nbformat_minor": 5
}
